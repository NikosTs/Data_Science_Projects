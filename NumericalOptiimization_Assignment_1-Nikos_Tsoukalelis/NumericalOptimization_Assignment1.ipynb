{
 "cells": [
  {
   "cell_type": "markdown",
   "id": "c889ea93-93ee-4235-b41a-8e58aef03b7d",
   "metadata": {
    "tags": []
   },
   "source": [
    "# 1st Assignment - Numerical optimization and large scale linear algebra"
   ]
  },
  {
   "cell_type": "markdown",
   "id": "05ef3b35-76d2-4541-b178-288a620c7d58",
   "metadata": {},
   "source": [
    "---\n",
    "\n",
    "> Nikos Tsoukalelis, Data Science Part Time student, 2022 <br />\n",
    "> Athens University of Economics and Business <br />\n",
    "> ntsoukalelis@aueb.gr"
   ]
  },
  {
   "cell_type": "markdown",
   "id": "f2e7cd7d-a12a-4a05-a352-788a409fefdd",
   "metadata": {},
   "source": [
    "> #### Importing the necessary libraries"
   ]
  },
  {
   "cell_type": "code",
   "execution_count": 1,
   "id": "e17ff186-c77a-4704-aaec-4ce8cb3e9dbe",
   "metadata": {},
   "outputs": [],
   "source": [
    "import pandas as pd\n",
    "import numpy as np\n",
    "from sklearn.model_selection import train_test_split\n",
    "from sklearn import linear_model\n",
    "from sklearn.metrics import mean_squared_error, r2_score\n",
    "from sklearn.metrics import confusion_matrix\n",
    "from sklearn.metrics import mean_squared_error\n",
    "from numpy.linalg import inv\n",
    "from numpy.linalg import qr\n",
    "from termcolor import colored\n",
    "from plotnine import *\n",
    "import plotnine as p9\n",
    "import matplotlib.pyplot as plt"
   ]
  },
  {
   "cell_type": "markdown",
   "id": "ebeea7fa-eb01-47ef-9332-c9b48b33c699",
   "metadata": {},
   "source": [
    "## Exercise 1:"
   ]
  },
  {
   "cell_type": "markdown",
   "id": "85d6b19f-0d51-4b79-989c-c4bbc5d80dcb",
   "metadata": {},
   "source": [
    "### <font size=\"4\">1.</font>  Create two graphs to show the illumination of the two patterns: The first with all lamps set to 1 and the other that minimize the sum square deviation with a desired uniform illumination. \n",
    "###  Which are the RMS errors in both cases?"
   ]
  },
  {
   "cell_type": "markdown",
   "id": "f53524e2-ca80-415f-8668-faff7e25defa",
   "metadata": {},
   "source": [
    "> #### Firtsly we create our datasets to build the  $l = Ap$ model."
   ]
  },
  {
   "cell_type": "code",
   "execution_count": 2,
   "id": "06456c44-80a4-4c49-a914-418f50dc9b86",
   "metadata": {},
   "outputs": [],
   "source": [
    "# position of the lights array\n",
    "light_position = np.array([(4.1, 20.4, 4), (14.1, 21.3, 3.5), (22.6, 17.1, 6), (5.5, 12.3, 4), (12.2, 9.7, 4),\n",
    "(15.3, 13.8, 6), (21.3, 10.5, 5.5), (3.9, 3.3, 5), (13.1, 4.3, 5), (20.3, 4.2, 4.5)])\n",
    "\n",
    "# power (p) of light (on) that's why we put 1\n",
    "p = np.ones((10,1))\n",
    "\n",
    "# our A array firstly we fill it with zeros\n",
    "A=np.full((625, 10), 0.)\n",
    "\n",
    "# construction of table A (tall table)\n",
    "\n",
    "for i in range(0,25):\n",
    "    for j in range(0,25):\n",
    "        index=0\n",
    "        for c in (light_position):\n",
    "            \n",
    "            A[i*25+j, index] = np.power(np.linalg.norm((np.array([i+0.5,j+0.5,0]) - c)),2)\n",
    "            A[i*25+j, index]=np.power(A[i*25+j, index],-1)\n",
    "            \n",
    "            index=index+1\n"
   ]
  },
  {
   "cell_type": "markdown",
   "id": "22ac01f5-be18-47c5-a202-3cc6428e287c",
   "metadata": {},
   "source": [
    "> #### We then try to calculate the average illumination. To do that we firstly calculate the product of A times p. Although that will provide a column matrix.\n",
    "> #### This is why we resahpe to get the 25x25 matrix. Afer that we calculate the number for which average illumination is equal to one, in other words we scale A."
   ]
  },
  {
   "cell_type": "code",
   "execution_count": 3,
   "id": "05e2d99c-d846-4e8f-b3a4-e39857fbd7e2",
   "metadata": {},
   "outputs": [],
   "source": [
    "illum = A.dot(p)\n",
    "illum=illum.reshape((25,25)).T"
   ]
  },
  {
   "cell_type": "code",
   "execution_count": 4,
   "id": "ab3e8574-b436-43d2-a438-a042b93e0151",
   "metadata": {},
   "outputs": [],
   "source": [
    "# finding illumination\n",
    "illum = A.dot(p)\n",
    "illum=illum.reshape((25,25)).T\n",
    "\n",
    "# we want mean illumination = 1 so mean illumination multiplied by a number giving 1. So avg_ill*a = 1 =>  a=1/avg_ill \n",
    "scale=1/illum.mean()\n",
    "\n",
    "# so the new scaled A table\n",
    "A = A * scale "
   ]
  },
  {
   "cell_type": "markdown",
   "id": "f7c1777f-3e65-4a98-9dff-898353bac685",
   "metadata": {},
   "source": [
    "> #### The new illumination matrix."
   ]
  },
  {
   "cell_type": "code",
   "execution_count": 5,
   "id": "b2e9079c-86d6-416a-9297-e7d749f6d613",
   "metadata": {},
   "outputs": [],
   "source": [
    "illum = A.dot(p)\n",
    "illum=illum.reshape((25,25)).T"
   ]
  },
  {
   "cell_type": "code",
   "execution_count": 6,
   "id": "7f2e2cfb-ecd5-42fb-9202-f8c93f27e31b",
   "metadata": {},
   "outputs": [
    {
     "data": {
      "image/png": "[encoded data removed]",
      "text/plain": [
       "<Figure size 648x648 with 2 Axes>"
      ]
     },
     "metadata": {
      "needs_background": "light"
     },
     "output_type": "display_data"
    }
   ],
   "source": [
    "plt.figure(figsize=(9,9))\n",
    "\n",
    "plt.ylim(0,24)\n",
    "plt.xlim(0,24)\n",
    "\n",
    "plt.imshow(illum, cmap='rainbow', interpolation='none')\n",
    "plt.colorbar()\n",
    "plt.show()"
   ]
  },
  {
   "cell_type": "markdown",
   "id": "a962aa34-9b9d-425e-9817-ef37fcf96357",
   "metadata": {},
   "source": [
    " "
   ]
  },
  {
   "attachments": {
    "74104865-bd58-4aed-bd3e-f5c5bbb9d149.png": {
     "image/png": "[encoded data removed]"
    }
   },
   "cell_type": "markdown",
   "id": "4d847481-acfc-4d46-97e2-a9cc995a2156",
   "metadata": {},
   "source": [
    "> #### Now we are going to work and find the value of p that minimizes the: ![εικόνα.png](attachment:74104865-bd58-4aed-bd3e-f5c5bbb9d149.png). We use the QR method to reach to the solution as it a preferable method and easily \n",
    "> #### implemented."
   ]
  },
  {
   "cell_type": "code",
   "execution_count": 7,
   "id": "3aad5563-10d7-400d-a1aa-d4803b229754",
   "metadata": {},
   "outputs": [
    {
     "name": "stdout",
     "output_type": "stream",
     "text": [
      "[[1.46211018]\n",
      " [0.78797433]\n",
      " [2.96641047]\n",
      " [0.74358042]\n",
      " [0.08317333]\n",
      " [0.21263945]\n",
      " [0.21218408]\n",
      " [2.05114815]\n",
      " [0.90760315]\n",
      " [1.47222464]]\n"
     ]
    }
   ],
   "source": [
    "# We create the a matrix called luminosity for depicting the l-desireable  (l des)\n",
    "luminosity =np.full((625, 1), 1.)\n",
    "\n",
    "# QR decomposition\n",
    "Q, R = qr(A)\n",
    "b_power = inv(R).dot(Q.T).dot(luminosity)\n",
    "print(b_power)"
   ]
  },
  {
   "cell_type": "code",
   "execution_count": 8,
   "id": "7a11c178-d7ed-4a3c-a81b-c47c8a1d9c35",
   "metadata": {},
   "outputs": [],
   "source": [
    "illum_des = A.dot(b_power)\n",
    "illum_des=illum_des.reshape((25,25)).T"
   ]
  },
  {
   "cell_type": "code",
   "execution_count": 9,
   "id": "0ff3db30-a5d9-4fba-8ce1-d98402bc5fd9",
   "metadata": {},
   "outputs": [
    {
     "data": {
      "image/png": "[encoded data removed]",
      "text/plain": [
       "<Figure size 648x648 with 2 Axes>"
      ]
     },
     "metadata": {
      "needs_background": "light"
     },
     "output_type": "display_data"
    }
   ],
   "source": [
    "plt.figure(figsize=(9,9))\n",
    "\n",
    "plt.ylim(0,24)\n",
    "plt.xlim(0,24)\n",
    "\n",
    "plt.imshow(illum_des, cmap='rainbow', interpolation='none')\n",
    "plt.colorbar()\n",
    "plt.show()"
   ]
  },
  {
   "cell_type": "markdown",
   "id": "93f1127a-c258-4393-9104-529432b2bafe",
   "metadata": {},
   "source": [
    "> #### Final step is to calculate the RMS errors for both cases."
   ]
  },
  {
   "cell_type": "code",
   "execution_count": 10,
   "id": "3c74b226-b5c7-4156-99b4-a3f0e25ea96e",
   "metadata": {},
   "outputs": [
    {
     "name": "stdout",
     "output_type": "stream",
     "text": [
      "\n",
      "The Root Mean Square Error (RMSE) for the 1st case (all p = 1) RMS_1 = 0.2417 \n",
      "\n",
      "The Root Mean Square Error (RMSE) for the 2nd case (desired uniform illumination) RMS_2 = 0.1404 \n"
     ]
    }
   ],
   "source": [
    "# We flatten our arrays (illum) first so we can compute the RMS\n",
    "illum_flatten=illum.flatten()\n",
    "illum_des_flatten=illum_des.flatten()\n",
    "\n",
    "#calculation of RMS\n",
    "RMS_1 = mean_squared_error(illum_flatten, luminosity, squared=False)\n",
    "RMS_2 = mean_squared_error(illum_des_flatten, luminosity, squared=False)\n",
    "\n",
    "print(\"\")\n",
    "print('The Root Mean Square Error (RMSE) for the 1st case (all p = 1) RMS_1 = {} '.format(round(RMS_1,4)))\n",
    "print(\"\")\n",
    "print('The Root Mean Square Error (RMSE) for the 2nd case (desired uniform illumination) RMS_2 = {} '.format(round(RMS_2,4)))"
   ]
  },
  {
   "cell_type": "markdown",
   "id": "92d5788c-4b15-455f-97b9-b4bd6bffa119",
   "metadata": {},
   "source": [
    " "
   ]
  },
  {
   "cell_type": "markdown",
   "id": "616551a7-cca3-44ed-9b92-cb39e58b9b3e",
   "metadata": {},
   "source": [
    "### <font size=\"4\">2.</font> Create the histogram of patch illumination values for all lamp powers one, and for lamp powers found by LS."
   ]
  },
  {
   "cell_type": "markdown",
   "id": "e24bd777-279b-4f98-9dff-b06e04aaf704",
   "metadata": {},
   "source": [
    "> #### We first create the histogram of patch illumination values for all lamp powers one."
   ]
  },
  {
   "cell_type": "code",
   "execution_count": 11,
   "id": "d89b1b85-bb52-4972-ad62-41d5fc36f9c0",
   "metadata": {},
   "outputs": [
    {
     "data": {
      "image/png": "[encoded data removed]",
      "text/plain": [
       "<Figure size 648x648 with 1 Axes>"
      ]
     },
     "metadata": {
      "needs_background": "light"
     },
     "output_type": "display_data"
    }
   ],
   "source": [
    "plt.figure(figsize=(9,9))\n",
    "plt.ylim(0,100)\n",
    "plt.xlim(0,2)\n",
    "\n",
    "plt.title('Histogram of patch illumination values for all lamp powers one',fontsize=17)\n",
    "plt.xlabel('Illumnination intensity', fontsize=15)\n",
    "plt.ylabel('Pixels',fontsize=15)\n",
    "\n",
    "plt.hist(illum_flatten, 50, density=False, facecolor='b', alpha=0.5, histtype='bar', ec='black')\n",
    "plt.show()"
   ]
  },
  {
   "cell_type": "markdown",
   "id": "68112d16-82e4-4c07-a067-877b095a83d3",
   "metadata": {},
   "source": [
    "> #### And lastly we create the histogram for lamp powers found by LS."
   ]
  },
  {
   "cell_type": "code",
   "execution_count": 12,
   "id": "49651f4d-568c-4b3b-9428-13cfcc621174",
   "metadata": {},
   "outputs": [
    {
     "data": {
      "image/png": "[encoded data removed]",
      "text/plain": [
       "<Figure size 648x648 with 1 Axes>"
      ]
     },
     "metadata": {
      "needs_background": "light"
     },
     "output_type": "display_data"
    }
   ],
   "source": [
    "plt.figure(figsize=(9,9))\n",
    "plt.ylim(0,100)\n",
    "plt.xlim(0,2)\n",
    "\n",
    "plt.title('Histogram for lamp powers found by LS',fontsize=17)\n",
    "plt.xlabel('Illumnination intensity', fontsize=15)\n",
    "plt.ylabel('Pixels',fontsize=15)\n",
    "\n",
    "plt.hist(illum_des_flatten, 50, density=False, facecolor='b', alpha=0.5, histtype='bar', ec='black')\n",
    "plt.show()"
   ]
  },
  {
   "cell_type": "markdown",
   "id": "5efd4c77-bc2b-4c05-ba49-3b35aba51dee",
   "metadata": {},
   "source": [
    "---"
   ]
  },
  {
   "cell_type": "markdown",
   "id": "7be7c546-e304-445f-9541-64b56c3a2a54",
   "metadata": {},
   "source": [
    " "
   ]
  },
  {
   "cell_type": "markdown",
   "id": "3a75e0e1-760b-4da8-b436-e4339f446962",
   "metadata": {},
   "source": [
    "## Exercise 2:"
   ]
  },
  {
   "cell_type": "markdown",
   "id": "93a00f58-c805-49ac-99c3-d61220734b66",
   "metadata": {},
   "source": [
    "###  Your aim is to predict whether a given banknote is authentic given a number of measures. In the file you can find the training and test set with the corresponding outputs."
   ]
  },
  {
   "cell_type": "markdown",
   "id": "031b8949-a9f3-4ecd-a2b7-60bef3f64e06",
   "metadata": {},
   "source": [
    "> #### Importing thedata from the csv files given."
   ]
  },
  {
   "cell_type": "code",
   "execution_count": 13,
   "id": "1ff05722-69c2-4320-b0fc-05b90d598f12",
   "metadata": {},
   "outputs": [],
   "source": [
    "train_backnotes=pd.read_csv(\"train_backnotes.csv\")\n",
    "train_backnotes_l=pd.read_csv(\"train_backnotes_l.csv\")\n",
    "test_backnotes=pd.read_csv(\"test_backnotes.csv\")\n",
    "test_backnotes_l=pd.read_csv(\"test_backnotes_l.csv\")"
   ]
  },
  {
   "cell_type": "markdown",
   "id": "beb183e0-bae8-4042-b1c1-8c2638d504e5",
   "metadata": {},
   "source": [
    "> #### Deleting some unnecessary columns that are created during the reading process of the csv files"
   ]
  },
  {
   "cell_type": "code",
   "execution_count": 14,
   "id": "a06410f0-a034-4e01-ae40-31fb8f0517c7",
   "metadata": {},
   "outputs": [],
   "source": [
    "train_backnotes=train_backnotes.drop(['Unnamed: 6','Unnamed: 7','Unnamed: 8'],axis=1)\n",
    "train_backnotes['marker']=train_backnotes['Unnamed: 0']\n",
    "train_backnotes=train_backnotes[['marker','variance','skewness','kurtosis','entropy','output']]"
   ]
  },
  {
   "cell_type": "code",
   "execution_count": 15,
   "id": "2595fe9f-b56f-4d3e-bd01-4c62889034eb",
   "metadata": {},
   "outputs": [
    {
     "data": {
      "text/html": [
       "<div>\n",
       "<style scoped>\n",
       "    .dataframe tbody tr th:only-of-type {\n",
       "        vertical-align: middle;\n",
       "    }\n",
       "\n",
       "    .dataframe tbody tr th {\n",
       "        vertical-align: top;\n",
       "    }\n",
       "\n",
       "    .dataframe thead th {\n",
       "        text-align: right;\n",
       "    }\n",
       "</style>\n",
       "<table border=\"1\" class=\"dataframe\">\n",
       "  <thead>\n",
       "    <tr style=\"text-align: right;\">\n",
       "      <th></th>\n",
       "      <th>marker</th>\n",
       "      <th>variance</th>\n",
       "      <th>skewness</th>\n",
       "      <th>kurtosis</th>\n",
       "      <th>entropy</th>\n",
       "      <th>output</th>\n",
       "    </tr>\n",
       "  </thead>\n",
       "  <tbody>\n",
       "    <tr>\n",
       "      <th>0</th>\n",
       "      <td>466</td>\n",
       "      <td>1.14720</td>\n",
       "      <td>3.598500</td>\n",
       "      <td>1.93870</td>\n",
       "      <td>-0.434060</td>\n",
       "      <td>0</td>\n",
       "    </tr>\n",
       "    <tr>\n",
       "      <th>1</th>\n",
       "      <td>909</td>\n",
       "      <td>-1.73220</td>\n",
       "      <td>-9.282800</td>\n",
       "      <td>7.71900</td>\n",
       "      <td>-1.716800</td>\n",
       "      <td>1</td>\n",
       "    </tr>\n",
       "    <tr>\n",
       "      <th>2</th>\n",
       "      <td>1025</td>\n",
       "      <td>-1.10220</td>\n",
       "      <td>-5.839500</td>\n",
       "      <td>4.56410</td>\n",
       "      <td>0.687050</td>\n",
       "      <td>1</td>\n",
       "    </tr>\n",
       "    <tr>\n",
       "      <th>3</th>\n",
       "      <td>1134</td>\n",
       "      <td>-1.70630</td>\n",
       "      <td>2.795600</td>\n",
       "      <td>-2.37800</td>\n",
       "      <td>-2.349100</td>\n",
       "      <td>1</td>\n",
       "    </tr>\n",
       "    <tr>\n",
       "      <th>4</th>\n",
       "      <td>55</td>\n",
       "      <td>4.82650</td>\n",
       "      <td>0.802870</td>\n",
       "      <td>1.63710</td>\n",
       "      <td>1.187500</td>\n",
       "      <td>0</td>\n",
       "    </tr>\n",
       "    <tr>\n",
       "      <th>...</th>\n",
       "      <td>...</td>\n",
       "      <td>...</td>\n",
       "      <td>...</td>\n",
       "      <td>...</td>\n",
       "      <td>...</td>\n",
       "      <td>...</td>\n",
       "    </tr>\n",
       "    <tr>\n",
       "      <th>1024</th>\n",
       "      <td>162</td>\n",
       "      <td>0.17346</td>\n",
       "      <td>7.869500</td>\n",
       "      <td>0.26876</td>\n",
       "      <td>-3.788300</td>\n",
       "      <td>0</td>\n",
       "    </tr>\n",
       "    <tr>\n",
       "      <th>1025</th>\n",
       "      <td>1201</td>\n",
       "      <td>-0.87340</td>\n",
       "      <td>-0.033118</td>\n",
       "      <td>-0.20165</td>\n",
       "      <td>0.557740</td>\n",
       "      <td>1</td>\n",
       "    </tr>\n",
       "    <tr>\n",
       "      <th>1026</th>\n",
       "      <td>868</td>\n",
       "      <td>-4.49960</td>\n",
       "      <td>3.428800</td>\n",
       "      <td>0.56265</td>\n",
       "      <td>-1.167200</td>\n",
       "      <td>1</td>\n",
       "    </tr>\n",
       "    <tr>\n",
       "      <th>1027</th>\n",
       "      <td>218</td>\n",
       "      <td>-0.16735</td>\n",
       "      <td>7.627400</td>\n",
       "      <td>1.20610</td>\n",
       "      <td>-3.624100</td>\n",
       "      <td>0</td>\n",
       "    </tr>\n",
       "    <tr>\n",
       "      <th>1028</th>\n",
       "      <td>157</td>\n",
       "      <td>3.94790</td>\n",
       "      <td>-3.772300</td>\n",
       "      <td>2.88300</td>\n",
       "      <td>0.019813</td>\n",
       "      <td>0</td>\n",
       "    </tr>\n",
       "  </tbody>\n",
       "</table>\n",
       "<p>1029 rows × 6 columns</p>\n",
       "</div>"
      ],
      "text/plain": [
       "      marker  variance  skewness  kurtosis   entropy  output\n",
       "0        466   1.14720  3.598500   1.93870 -0.434060       0\n",
       "1        909  -1.73220 -9.282800   7.71900 -1.716800       1\n",
       "2       1025  -1.10220 -5.839500   4.56410  0.687050       1\n",
       "3       1134  -1.70630  2.795600  -2.37800 -2.349100       1\n",
       "4         55   4.82650  0.802870   1.63710  1.187500       0\n",
       "...      ...       ...       ...       ...       ...     ...\n",
       "1024     162   0.17346  7.869500   0.26876 -3.788300       0\n",
       "1025    1201  -0.87340 -0.033118  -0.20165  0.557740       1\n",
       "1026     868  -4.49960  3.428800   0.56265 -1.167200       1\n",
       "1027     218  -0.16735  7.627400   1.20610 -3.624100       0\n",
       "1028     157   3.94790 -3.772300   2.88300  0.019813       0\n",
       "\n",
       "[1029 rows x 6 columns]"
      ]
     },
     "execution_count": 15,
     "metadata": {},
     "output_type": "execute_result"
    }
   ],
   "source": [
    "train_backnotes"
   ]
  },
  {
   "cell_type": "code",
   "execution_count": 16,
   "id": "12635cb1-7fdd-497f-8d0d-6fac305e26e5",
   "metadata": {},
   "outputs": [
    {
     "data": {
      "text/html": [
       "<div>\n",
       "<style scoped>\n",
       "    .dataframe tbody tr th:only-of-type {\n",
       "        vertical-align: middle;\n",
       "    }\n",
       "\n",
       "    .dataframe tbody tr th {\n",
       "        vertical-align: top;\n",
       "    }\n",
       "\n",
       "    .dataframe thead th {\n",
       "        text-align: right;\n",
       "    }\n",
       "</style>\n",
       "<table border=\"1\" class=\"dataframe\">\n",
       "  <thead>\n",
       "    <tr style=\"text-align: right;\">\n",
       "      <th></th>\n",
       "      <th>marker</th>\n",
       "      <th>variance</th>\n",
       "      <th>skewness</th>\n",
       "      <th>kurtosis</th>\n",
       "      <th>entropy</th>\n",
       "    </tr>\n",
       "  </thead>\n",
       "  <tbody>\n",
       "    <tr>\n",
       "      <th>0</th>\n",
       "      <td>2</td>\n",
       "      <td>3.86600</td>\n",
       "      <td>-2.63830</td>\n",
       "      <td>1.9242</td>\n",
       "      <td>0.10645</td>\n",
       "    </tr>\n",
       "    <tr>\n",
       "      <th>1</th>\n",
       "      <td>13</td>\n",
       "      <td>-1.57680</td>\n",
       "      <td>10.84300</td>\n",
       "      <td>2.5462</td>\n",
       "      <td>-2.93620</td>\n",
       "    </tr>\n",
       "    <tr>\n",
       "      <th>2</th>\n",
       "      <td>24</td>\n",
       "      <td>4.43380</td>\n",
       "      <td>9.88700</td>\n",
       "      <td>-4.6795</td>\n",
       "      <td>-3.74830</td>\n",
       "    </tr>\n",
       "    <tr>\n",
       "      <th>3</th>\n",
       "      <td>27</td>\n",
       "      <td>-0.38214</td>\n",
       "      <td>8.39090</td>\n",
       "      <td>2.1624</td>\n",
       "      <td>-3.74050</td>\n",
       "    </tr>\n",
       "    <tr>\n",
       "      <th>4</th>\n",
       "      <td>29</td>\n",
       "      <td>4.89060</td>\n",
       "      <td>-3.35840</td>\n",
       "      <td>3.4202</td>\n",
       "      <td>1.09050</td>\n",
       "    </tr>\n",
       "    <tr>\n",
       "      <th>...</th>\n",
       "      <td>...</td>\n",
       "      <td>...</td>\n",
       "      <td>...</td>\n",
       "      <td>...</td>\n",
       "      <td>...</td>\n",
       "    </tr>\n",
       "    <tr>\n",
       "      <th>338</th>\n",
       "      <td>1349</td>\n",
       "      <td>-1.58510</td>\n",
       "      <td>-2.15620</td>\n",
       "      <td>1.7082</td>\n",
       "      <td>0.90170</td>\n",
       "    </tr>\n",
       "    <tr>\n",
       "      <th>339</th>\n",
       "      <td>1365</td>\n",
       "      <td>-4.50460</td>\n",
       "      <td>-5.81260</td>\n",
       "      <td>10.8867</td>\n",
       "      <td>-0.52846</td>\n",
       "    </tr>\n",
       "    <tr>\n",
       "      <th>340</th>\n",
       "      <td>1367</td>\n",
       "      <td>0.40614</td>\n",
       "      <td>1.34920</td>\n",
       "      <td>-1.4501</td>\n",
       "      <td>-0.55949</td>\n",
       "    </tr>\n",
       "    <tr>\n",
       "      <th>341</th>\n",
       "      <td>1369</td>\n",
       "      <td>-3.75030</td>\n",
       "      <td>-13.45860</td>\n",
       "      <td>17.5932</td>\n",
       "      <td>-2.77710</td>\n",
       "    </tr>\n",
       "    <tr>\n",
       "      <th>342</th>\n",
       "      <td>1371</td>\n",
       "      <td>-2.54190</td>\n",
       "      <td>-0.65804</td>\n",
       "      <td>2.6842</td>\n",
       "      <td>1.19520</td>\n",
       "    </tr>\n",
       "  </tbody>\n",
       "</table>\n",
       "<p>343 rows × 5 columns</p>\n",
       "</div>"
      ],
      "text/plain": [
       "     marker  variance  skewness  kurtosis  entropy\n",
       "0         2   3.86600  -2.63830    1.9242  0.10645\n",
       "1        13  -1.57680  10.84300    2.5462 -2.93620\n",
       "2        24   4.43380   9.88700   -4.6795 -3.74830\n",
       "3        27  -0.38214   8.39090    2.1624 -3.74050\n",
       "4        29   4.89060  -3.35840    3.4202  1.09050\n",
       "..      ...       ...       ...       ...      ...\n",
       "338    1349  -1.58510  -2.15620    1.7082  0.90170\n",
       "339    1365  -4.50460  -5.81260   10.8867 -0.52846\n",
       "340    1367   0.40614   1.34920   -1.4501 -0.55949\n",
       "341    1369  -3.75030 -13.45860   17.5932 -2.77710\n",
       "342    1371  -2.54190  -0.65804    2.6842  1.19520\n",
       "\n",
       "[343 rows x 5 columns]"
      ]
     },
     "execution_count": 16,
     "metadata": {},
     "output_type": "execute_result"
    }
   ],
   "source": [
    "test_backnotes.columns=['marker','variance','skewness','kurtosis','entropy']\n",
    "test_backnotes"
   ]
  },
  {
   "cell_type": "markdown",
   "id": "64b60ec1-0490-4d8f-a35c-2272fe25ce86",
   "metadata": {},
   "source": [
    "> #### Splitting the train dataset to X_train and Y_train and test dataset to X_test and Y_test, adding a new column containing \"ones\" to create a model like: \n",
    ">#### <font color='dodgerblue'>$$ y = 1 + u1x1 + u2x2 + ... $$ </font>"
   ]
  },
  {
   "cell_type": "code",
   "execution_count": 17,
   "id": "08159092-5565-44c9-bb6b-6e93aeb27ea1",
   "metadata": {},
   "outputs": [],
   "source": [
    "#splitting the train dataset in X and Y \n",
    "X_train=train_backnotes[['marker','variance','skewness','kurtosis','entropy']]\n",
    "X_train['intercept']=1\n",
    "X_train=X_train[['intercept','variance','skewness','kurtosis','entropy']]\n",
    "Y_train=train_backnotes['output']\n",
    "\n",
    "#splitting the test dataset in X and Y \n",
    "X_test=test_backnotes[['marker','variance','skewness','kurtosis','entropy']]\n",
    "X_test['intercept']=1\n",
    "X_test=X_test[['intercept','variance','skewness','kurtosis','entropy']]\n",
    "Y_test=test_backnotes_l['output']"
   ]
  },
  {
   "cell_type": "markdown",
   "id": "83568030-5d3b-4353-952a-279520526c0b",
   "metadata": {},
   "source": [
    "> #### After manipulating our data to bring to our desired form we use sklean's linear regression function to create our model that is based in the calculation of the Least Square method.\n",
    "> #### We then fit the model and calculate our predicted values using our model for the train dataset. Lastly we print the coefficients and the intercept."
   ]
  },
  {
   "cell_type": "code",
   "execution_count": 18,
   "id": "5ae0de04-b56e-4bed-9a95-d8f62555d808",
   "metadata": {},
   "outputs": [
    {
     "data": {
      "text/plain": [
       "(array([ 0.        , -0.14244538, -0.07715821, -0.10119138, -0.00062356]),\n",
       " 0.7944044829061541)"
      ]
     },
     "execution_count": 18,
     "metadata": {},
     "output_type": "execute_result"
    }
   ],
   "source": [
    "ls_model=linear_model.LinearRegression()\n",
    "fit=ls_model.fit(X_train, Y_train)\n",
    "Y_train_pred=ls_model.predict(X_train)\n",
    "fit.coef_, fit.intercept_"
   ]
  },
  {
   "cell_type": "markdown",
   "id": "a09e5081-2cbb-41d6-8f03-298f38c86aa4",
   "metadata": {},
   "source": [
    "> #### We then use the rule ”If the prediction value > 0.5 then classify the item as 1 otherwise as 0.” for the classification proccess."
   ]
  },
  {
   "cell_type": "code",
   "execution_count": 19,
   "id": "09019a15-9b2d-4f36-baff-27b408301087",
   "metadata": {},
   "outputs": [
    {
     "data": {
      "text/plain": [
       "array([0, 1, 1, ..., 1, 0, 0])"
      ]
     },
     "execution_count": 19,
     "metadata": {},
     "output_type": "execute_result"
    }
   ],
   "source": [
    "y_train_clf=[]\n",
    "for count in Y_train_pred:\n",
    "    if count > 0.5:\n",
    "        y_train_clf.append(1)\n",
    "    else:\n",
    "        y_train_clf.append(0)\n",
    "\n",
    "y_train_clf=np.asarray(y_train_clf)\n",
    "        \n",
    "y_train_clf"
   ]
  },
  {
   "cell_type": "markdown",
   "id": "d93b70d6-d311-4d60-81ce-ae1498977473",
   "metadata": {},
   "source": [
    "> #### Converting the array to a dataframe."
   ]
  },
  {
   "cell_type": "code",
   "execution_count": 20,
   "id": "914cdb41-ed64-44f7-b51a-e41c105bbacd",
   "metadata": {},
   "outputs": [
    {
     "data": {
      "text/html": [
       "<div>\n",
       "<style scoped>\n",
       "    .dataframe tbody tr th:only-of-type {\n",
       "        vertical-align: middle;\n",
       "    }\n",
       "\n",
       "    .dataframe tbody tr th {\n",
       "        vertical-align: top;\n",
       "    }\n",
       "\n",
       "    .dataframe thead th {\n",
       "        text-align: right;\n",
       "    }\n",
       "</style>\n",
       "<table border=\"1\" class=\"dataframe\">\n",
       "  <thead>\n",
       "    <tr style=\"text-align: right;\">\n",
       "      <th></th>\n",
       "      <th>y_clf</th>\n",
       "    </tr>\n",
       "  </thead>\n",
       "  <tbody>\n",
       "    <tr>\n",
       "      <th>0</th>\n",
       "      <td>0</td>\n",
       "    </tr>\n",
       "    <tr>\n",
       "      <th>1</th>\n",
       "      <td>1</td>\n",
       "    </tr>\n",
       "    <tr>\n",
       "      <th>2</th>\n",
       "      <td>1</td>\n",
       "    </tr>\n",
       "    <tr>\n",
       "      <th>3</th>\n",
       "      <td>1</td>\n",
       "    </tr>\n",
       "    <tr>\n",
       "      <th>4</th>\n",
       "      <td>0</td>\n",
       "    </tr>\n",
       "    <tr>\n",
       "      <th>...</th>\n",
       "      <td>...</td>\n",
       "    </tr>\n",
       "    <tr>\n",
       "      <th>1024</th>\n",
       "      <td>0</td>\n",
       "    </tr>\n",
       "    <tr>\n",
       "      <th>1025</th>\n",
       "      <td>1</td>\n",
       "    </tr>\n",
       "    <tr>\n",
       "      <th>1026</th>\n",
       "      <td>1</td>\n",
       "    </tr>\n",
       "    <tr>\n",
       "      <th>1027</th>\n",
       "      <td>0</td>\n",
       "    </tr>\n",
       "    <tr>\n",
       "      <th>1028</th>\n",
       "      <td>0</td>\n",
       "    </tr>\n",
       "  </tbody>\n",
       "</table>\n",
       "<p>1029 rows × 1 columns</p>\n",
       "</div>"
      ],
      "text/plain": [
       "      y_clf\n",
       "0         0\n",
       "1         1\n",
       "2         1\n",
       "3         1\n",
       "4         0\n",
       "...     ...\n",
       "1024      0\n",
       "1025      1\n",
       "1026      1\n",
       "1027      0\n",
       "1028      0\n",
       "\n",
       "[1029 rows x 1 columns]"
      ]
     },
     "execution_count": 20,
     "metadata": {},
     "output_type": "execute_result"
    }
   ],
   "source": [
    "y_train_clf_df = pd.DataFrame()\n",
    "y_train_clf_df['y_clf']=pd.Series(y_train_clf)\n",
    "y_train_clf_df"
   ]
  },
  {
   "cell_type": "markdown",
   "id": "d7dfe170-fb5f-42ab-9c1a-8ee3d841ddd7",
   "metadata": {},
   "source": [
    "> #### Computing the confusion matrix for the results of the train dataset"
   ]
  },
  {
   "cell_type": "code",
   "execution_count": 21,
   "id": "56ed4ff9-5906-44eb-9fc3-be21a23362fb",
   "metadata": {
    "tags": []
   },
   "outputs": [
    {
     "data": {
      "text/plain": [
       "array([[533,  25],\n",
       "       [  0, 471]], dtype=int64)"
      ]
     },
     "execution_count": 21,
     "metadata": {},
     "output_type": "execute_result"
    }
   ],
   "source": [
    "cm_train = confusion_matrix(Y_train, y_train_clf_df['y_clf'])\n",
    "cm_train"
   ]
  },
  {
   "cell_type": "markdown",
   "id": "0678081b-da95-4fcd-a7a1-3e68be65eb22",
   "metadata": {},
   "source": [
    "> #### Calculating the MSE so we can compare the predicted values of the train dataset with the actual output data."
   ]
  },
  {
   "cell_type": "code",
   "execution_count": 22,
   "id": "25743690-f9d5-406a-995d-d04a4a095696",
   "metadata": {
    "tags": []
   },
   "outputs": [
    {
     "data": {
      "text/plain": [
       "0.024295432458697766"
      ]
     },
     "execution_count": 22,
     "metadata": {},
     "output_type": "execute_result"
    }
   ],
   "source": [
    "# converting everything to numpy array\n",
    "\n",
    "# predicted values for the train dataset\n",
    "y_train_pred=y_train_clf_df.to_numpy()\n",
    "# output values of train dataset (y_train) \n",
    "Y_train_np=Y_train.to_numpy()\n",
    "\n",
    "#calculating the MSE to see how close our model is comparing with the given output values\n",
    "mean_squared_error(Y_train_np, y_train_pred)"
   ]
  },
  {
   "cell_type": "markdown",
   "id": "fcc79fd6-5263-4ca4-bcec-fd8e2f48181d",
   "metadata": {},
   "source": [
    "> #### We then repeat the same procedure for the test dataset so we can classify the output values."
   ]
  },
  {
   "cell_type": "code",
   "execution_count": 23,
   "id": "7d6dc5d3-a912-40a7-976f-0d24f90ef737",
   "metadata": {},
   "outputs": [
    {
     "data": {
      "text/html": [
       "<div>\n",
       "<style scoped>\n",
       "    .dataframe tbody tr th:only-of-type {\n",
       "        vertical-align: middle;\n",
       "    }\n",
       "\n",
       "    .dataframe tbody tr th {\n",
       "        vertical-align: top;\n",
       "    }\n",
       "\n",
       "    .dataframe thead th {\n",
       "        text-align: right;\n",
       "    }\n",
       "</style>\n",
       "<table border=\"1\" class=\"dataframe\">\n",
       "  <thead>\n",
       "    <tr style=\"text-align: right;\">\n",
       "      <th></th>\n",
       "      <th>y_clf</th>\n",
       "    </tr>\n",
       "  </thead>\n",
       "  <tbody>\n",
       "    <tr>\n",
       "      <th>0</th>\n",
       "      <td>0</td>\n",
       "    </tr>\n",
       "    <tr>\n",
       "      <th>1</th>\n",
       "      <td>0</td>\n",
       "    </tr>\n",
       "    <tr>\n",
       "      <th>2</th>\n",
       "      <td>0</td>\n",
       "    </tr>\n",
       "    <tr>\n",
       "      <th>3</th>\n",
       "      <td>0</td>\n",
       "    </tr>\n",
       "    <tr>\n",
       "      <th>4</th>\n",
       "      <td>0</td>\n",
       "    </tr>\n",
       "    <tr>\n",
       "      <th>...</th>\n",
       "      <td>...</td>\n",
       "    </tr>\n",
       "    <tr>\n",
       "      <th>338</th>\n",
       "      <td>1</td>\n",
       "    </tr>\n",
       "    <tr>\n",
       "      <th>339</th>\n",
       "      <td>1</td>\n",
       "    </tr>\n",
       "    <tr>\n",
       "      <th>340</th>\n",
       "      <td>1</td>\n",
       "    </tr>\n",
       "    <tr>\n",
       "      <th>341</th>\n",
       "      <td>1</td>\n",
       "    </tr>\n",
       "    <tr>\n",
       "      <th>342</th>\n",
       "      <td>1</td>\n",
       "    </tr>\n",
       "  </tbody>\n",
       "</table>\n",
       "<p>343 rows × 1 columns</p>\n",
       "</div>"
      ],
      "text/plain": [
       "     y_clf\n",
       "0        0\n",
       "1        0\n",
       "2        0\n",
       "3        0\n",
       "4        0\n",
       "..     ...\n",
       "338      1\n",
       "339      1\n",
       "340      1\n",
       "341      1\n",
       "342      1\n",
       "\n",
       "[343 rows x 1 columns]"
      ]
     },
     "execution_count": 23,
     "metadata": {},
     "output_type": "execute_result"
    }
   ],
   "source": [
    "Y_test_pred=ls_model.predict(X_test)\n",
    "\n",
    "y_test_clf=[]\n",
    "for count1 in Y_test_pred:\n",
    "    if count1 > 0.5:\n",
    "        y_test_clf.append(1)\n",
    "    else:\n",
    "        y_test_clf.append(0)\n",
    "\n",
    "y_test_clf=np.asarray(y_test_clf)\n",
    "\n",
    "y_test_clf_df = pd.DataFrame()\n",
    "y_test_clf_df['y_clf']=pd.Series(y_test_clf)\n",
    "y_test_clf_df\n"
   ]
  },
  {
   "cell_type": "markdown",
   "id": "f31b0f11-9e8e-451c-baf9-c152ea7e75ec",
   "metadata": {},
   "source": [
    "> #### Computing the confusion matrix for the results of the test dataset"
   ]
  },
  {
   "cell_type": "code",
   "execution_count": 24,
   "id": "67ef114f-437f-41af-83eb-0f54f0881abb",
   "metadata": {
    "tags": []
   },
   "outputs": [
    {
     "data": {
      "text/plain": [
       "array([[197,   7],\n",
       "       [  0, 139]], dtype=int64)"
      ]
     },
     "execution_count": 24,
     "metadata": {},
     "output_type": "execute_result"
    }
   ],
   "source": [
    "cm_test = confusion_matrix(Y_test, y_test_clf_df['y_clf'])\n",
    "cm_test"
   ]
  },
  {
   "cell_type": "markdown",
   "id": "a2f22d61-79e9-4623-8225-89ed0550be41",
   "metadata": {},
   "source": [
    "> #### Calculating the MSE so we can compare the predicted values of the test dataset with the actual output data."
   ]
  },
  {
   "cell_type": "code",
   "execution_count": 25,
   "id": "c8363ca5-5775-42af-961e-f02ad1e155dc",
   "metadata": {
    "tags": []
   },
   "outputs": [
    {
     "data": {
      "text/plain": [
       "0.02040816326530612"
      ]
     },
     "execution_count": 25,
     "metadata": {},
     "output_type": "execute_result"
    }
   ],
   "source": [
    "# converting everything to numpy array\n",
    "\n",
    "# predicted values for the train dataset\n",
    "y_test_pred=y_test_clf_df.to_numpy()\n",
    "# output values of train dataset (y_train) \n",
    "Y_test_np=Y_test.to_numpy()\n",
    "\n",
    "#calculating the MSE to see how close our model is comparing with the given output values\n",
    "mean_squared_error(Y_test_np, y_test_pred)"
   ]
  },
  {
   "cell_type": "markdown",
   "id": "988b4eb3-d2d1-41ae-b101-d833e05b1448",
   "metadata": {},
   "source": [
    "###  2nd way of solving the Least Square method."
   ]
  },
  {
   "cell_type": "markdown",
   "id": "cb403b22-5d47-4a44-a607-daaa90c73a95",
   "metadata": {},
   "source": [
    "> #### Solving the LS method using QR"
   ]
  },
  {
   "cell_type": "code",
   "execution_count": 26,
   "id": "daa54267-fc70-4f5b-85f4-0d05c90092ec",
   "metadata": {},
   "outputs": [],
   "source": [
    "X_train_np=X_train.to_numpy()\n",
    "Y_train_np=Y_train.to_numpy()\n",
    "X_test_np=X_test.to_numpy()\n",
    "Y_test_np=Y_test.to_numpy()"
   ]
  },
  {
   "cell_type": "markdown",
   "id": "1ce0d20d-b237-451d-ae3c-271f118f7d4e",
   "metadata": {},
   "source": [
    "> #### Firstly we implement the QR method for the train dataset and we find the coefficients."
   ]
  },
  {
   "cell_type": "code",
   "execution_count": 27,
   "id": "86c5d401-1388-4d2f-b699-847a4fc691ad",
   "metadata": {},
   "outputs": [
    {
     "name": "stdout",
     "output_type": "stream",
     "text": [
      "[[ 7.94404483e-01]\n",
      " [-1.42445381e-01]\n",
      " [-7.71582130e-02]\n",
      " [-1.01191385e-01]\n",
      " [-6.23563698e-04]]\n"
     ]
    }
   ],
   "source": [
    "Y_train_np = Y_train_np.reshape((len(Y_train_np), 1))\n",
    "\n",
    "# QR decomposition\n",
    "Q_train, R_train = qr(X_train_np)\n",
    "b_train = inv(R_train).dot(Q_train.T).dot(Y_train_np)\n",
    "print(b_train)"
   ]
  },
  {
   "cell_type": "markdown",
   "id": "45b9ece7-9294-4e74-840b-05041668c296",
   "metadata": {},
   "source": [
    "> #### Afterwards we calculate the predicted values for the train dataset"
   ]
  },
  {
   "cell_type": "code",
   "execution_count": 28,
   "id": "11881d9f-616b-4725-90ba-7d868cc53271",
   "metadata": {},
   "outputs": [
    {
     "data": {
      "text/plain": [
       "array([[0.15742824],\n",
       "       [0.97736687],\n",
       "       [0.93969715],\n",
       "       ...,\n",
       "       [1.11458413],\n",
       "       [0.10993909],\n",
       "       [0.23136117]])"
      ]
     },
     "execution_count": 28,
     "metadata": {},
     "output_type": "execute_result"
    }
   ],
   "source": [
    "yhat_train = X_train_np.dot(b_train)\n",
    "yhat_train"
   ]
  },
  {
   "cell_type": "markdown",
   "id": "b5863e81-2b15-465c-9f1a-0edbcb109b79",
   "metadata": {},
   "source": [
    "> #### We then use the rule ”If the prediction value > 0.5 then classify the item as 1 otherwise as 0.” for the classification proccess."
   ]
  },
  {
   "cell_type": "code",
   "execution_count": 29,
   "id": "8271d75e-34ef-4674-9c22-eb0d757d78ea",
   "metadata": {},
   "outputs": [
    {
     "data": {
      "text/plain": [
       "array([[0],\n",
       "       [1],\n",
       "       [1],\n",
       "       ...,\n",
       "       [1],\n",
       "       [0],\n",
       "       [0]], dtype=int64)"
      ]
     },
     "execution_count": 29,
     "metadata": {},
     "output_type": "execute_result"
    }
   ],
   "source": [
    "y_clf_qr=[]\n",
    "for count2 in yhat_train:\n",
    "    if count2 > 0.5:\n",
    "        y_clf_qr.append(1)\n",
    "    else:\n",
    "        y_clf_qr.append(0)\n",
    "\n",
    "y_clf_qr=np.asarray(y_clf_qr)\n",
    "        \n",
    "y_clf_qr\n",
    "\n",
    "df3 = pd.DataFrame()\n",
    "df3['y_clf']=pd.Series(y_clf_qr)\n",
    "Y_train_np"
   ]
  },
  {
   "cell_type": "markdown",
   "id": "1a8594d7-7b8c-4683-b274-cb926f53d2ba",
   "metadata": {},
   "source": [
    "> #### Computing the confusion matrix for the results of the train dataset"
   ]
  },
  {
   "cell_type": "code",
   "execution_count": 30,
   "id": "72611d95-c2bb-47e2-9161-2852e1a92192",
   "metadata": {
    "tags": []
   },
   "outputs": [
    {
     "data": {
      "text/plain": [
       "array([[533,  25],\n",
       "       [  0, 471]], dtype=int64)"
      ]
     },
     "execution_count": 30,
     "metadata": {},
     "output_type": "execute_result"
    }
   ],
   "source": [
    "cm_train_qr = confusion_matrix(Y_train_np, y_clf_qr)\n",
    "cm_train_qr"
   ]
  },
  {
   "cell_type": "markdown",
   "id": "9fdcca7a-de60-4318-9ae4-81e7d81f874b",
   "metadata": {},
   "source": [
    "> #### Calculating the MSE so we can compare the predicted values of the train dataset with the actual output data."
   ]
  },
  {
   "cell_type": "code",
   "execution_count": 31,
   "id": "58237fbf-f633-485a-8489-cc309d5efbb9",
   "metadata": {},
   "outputs": [
    {
     "data": {
      "text/plain": [
       "0.024295432458697766"
      ]
     },
     "execution_count": 31,
     "metadata": {},
     "output_type": "execute_result"
    }
   ],
   "source": [
    "y_train_pred=df3.to_numpy()\n",
    "Y_train_np=Y_train.to_numpy()\n",
    "mean_squared_error(Y_train_np, y_train_pred)"
   ]
  },
  {
   "cell_type": "markdown",
   "id": "89134d9a-83ed-4f57-b94a-0dd795c38ff6",
   "metadata": {},
   "source": [
    "> #### Then we implement the QR method for the test dataset and we find the coefficients."
   ]
  },
  {
   "cell_type": "code",
   "execution_count": 32,
   "id": "f5aedaed-208c-418b-a851-d9f8f450af4e",
   "metadata": {},
   "outputs": [
    {
     "name": "stdout",
     "output_type": "stream",
     "text": [
      "[[ 0.81043967]\n",
      " [-0.14340545]\n",
      " [-0.08150602]\n",
      " [-0.10267574]\n",
      " [-0.00111604]]\n"
     ]
    }
   ],
   "source": [
    "Y_test_np = Y_test_np.reshape((len(Y_test_np), 1))\n",
    "\n",
    "# QR decomposition\n",
    "Q_test, R_test = qr(X_test_np)\n",
    "b_test = inv(R_test).dot(Q_test.T).dot(Y_test_np)\n",
    "print(b_test)"
   ]
  },
  {
   "cell_type": "markdown",
   "id": "538b2663-e625-4516-a20c-e042f12a06d2",
   "metadata": {},
   "source": [
    "> #### Afterwards we calculate the predicted values for the test dataset"
   ]
  },
  {
   "cell_type": "code",
   "execution_count": 33,
   "id": "4465f095-fcb5-41e9-895f-9a2e7e20f352",
   "metadata": {},
   "outputs": [],
   "source": [
    "yhat_test = X_test_np.dot(b_test)"
   ]
  },
  {
   "cell_type": "markdown",
   "id": "d1409e4c-273f-44c9-a8db-8671851dfd49",
   "metadata": {},
   "source": [
    "> #### We then use the rule ”If the prediction value > 0.5 then classify the item as 1 otherwise as 0.” for the classification proccess."
   ]
  },
  {
   "cell_type": "code",
   "execution_count": 34,
   "id": "6e80aa4f-abfa-4ffe-87c2-e63bbce9b980",
   "metadata": {},
   "outputs": [
    {
     "data": {
      "text/html": [
       "<div>\n",
       "<style scoped>\n",
       "    .dataframe tbody tr th:only-of-type {\n",
       "        vertical-align: middle;\n",
       "    }\n",
       "\n",
       "    .dataframe tbody tr th {\n",
       "        vertical-align: top;\n",
       "    }\n",
       "\n",
       "    .dataframe thead th {\n",
       "        text-align: right;\n",
       "    }\n",
       "</style>\n",
       "<table border=\"1\" class=\"dataframe\">\n",
       "  <thead>\n",
       "    <tr style=\"text-align: right;\">\n",
       "      <th></th>\n",
       "      <th>y_clf</th>\n",
       "    </tr>\n",
       "  </thead>\n",
       "  <tbody>\n",
       "    <tr>\n",
       "      <th>0</th>\n",
       "      <td>0</td>\n",
       "    </tr>\n",
       "    <tr>\n",
       "      <th>1</th>\n",
       "      <td>0</td>\n",
       "    </tr>\n",
       "    <tr>\n",
       "      <th>2</th>\n",
       "      <td>0</td>\n",
       "    </tr>\n",
       "    <tr>\n",
       "      <th>3</th>\n",
       "      <td>0</td>\n",
       "    </tr>\n",
       "    <tr>\n",
       "      <th>4</th>\n",
       "      <td>0</td>\n",
       "    </tr>\n",
       "    <tr>\n",
       "      <th>...</th>\n",
       "      <td>...</td>\n",
       "    </tr>\n",
       "    <tr>\n",
       "      <th>338</th>\n",
       "      <td>1</td>\n",
       "    </tr>\n",
       "    <tr>\n",
       "      <th>339</th>\n",
       "      <td>1</td>\n",
       "    </tr>\n",
       "    <tr>\n",
       "      <th>340</th>\n",
       "      <td>1</td>\n",
       "    </tr>\n",
       "    <tr>\n",
       "      <th>341</th>\n",
       "      <td>1</td>\n",
       "    </tr>\n",
       "    <tr>\n",
       "      <th>342</th>\n",
       "      <td>1</td>\n",
       "    </tr>\n",
       "  </tbody>\n",
       "</table>\n",
       "<p>343 rows × 1 columns</p>\n",
       "</div>"
      ],
      "text/plain": [
       "     y_clf\n",
       "0        0\n",
       "1        0\n",
       "2        0\n",
       "3        0\n",
       "4        0\n",
       "..     ...\n",
       "338      1\n",
       "339      1\n",
       "340      1\n",
       "341      1\n",
       "342      1\n",
       "\n",
       "[343 rows x 1 columns]"
      ]
     },
     "execution_count": 34,
     "metadata": {},
     "output_type": "execute_result"
    }
   ],
   "source": [
    "y_clf_qr=[]\n",
    "for count2 in yhat_test:\n",
    "    if count2 > 0.5:\n",
    "        y_clf_qr.append(1)\n",
    "    else:\n",
    "        y_clf_qr.append(0)\n",
    "\n",
    "y_clf_qr=np.asarray(y_clf_qr)\n",
    "        \n",
    "y_clf_qr\n",
    "\n",
    "df3 = pd.DataFrame()\n",
    "df3['y_clf']=pd.Series(y_clf_qr)\n",
    "df3"
   ]
  },
  {
   "cell_type": "markdown",
   "id": "9c6879b9-db9d-4500-961e-08c98fe4e5dc",
   "metadata": {},
   "source": [
    "> #### Computing the confusion matrix for the results of the test dataset"
   ]
  },
  {
   "cell_type": "code",
   "execution_count": 35,
   "id": "5988617c-8a3d-454d-868e-8f2609edc28f",
   "metadata": {
    "tags": []
   },
   "outputs": [
    {
     "data": {
      "text/plain": [
       "array([[196,   8],\n",
       "       [  0, 139]], dtype=int64)"
      ]
     },
     "execution_count": 35,
     "metadata": {},
     "output_type": "execute_result"
    }
   ],
   "source": [
    "cm_test_qr = confusion_matrix(Y_test, df3['y_clf'])\n",
    "cm_test_qr"
   ]
  },
  {
   "cell_type": "markdown",
   "id": "053941df-944f-4932-87f5-e69f91ccfcc3",
   "metadata": {},
   "source": [
    "> #### Calculating the MSE so we can compare the predicted values of the train dataset with the actual output data."
   ]
  },
  {
   "cell_type": "code",
   "execution_count": 36,
   "id": "e41f679c-ead0-454c-a06c-e5abd185c948",
   "metadata": {},
   "outputs": [
    {
     "data": {
      "text/plain": [
       "0.023323615160349854"
      ]
     },
     "execution_count": 36,
     "metadata": {},
     "output_type": "execute_result"
    }
   ],
   "source": [
    "y_test_pred=df3.to_numpy()\n",
    "Y_test_np=Y_test.to_numpy()\n",
    "mean_squared_error(Y_test_np, y_test_pred)"
   ]
  },
  {
   "cell_type": "markdown",
   "id": "65960d7e-8feb-498f-a9da-8852bed6ce7c",
   "metadata": {},
   "source": [
    "> #### Then we need to try to find a better threshold for the classfication.\n",
    "> #### We implement firstly the search for the best threshold for the training set."
   ]
  },
  {
   "cell_type": "code",
   "execution_count": 37,
   "id": "d577cd76-b1d8-4adc-88e6-91b3dc301eaf",
   "metadata": {
    "tags": []
   },
   "outputs": [
    {
     "name": "stdout",
     "output_type": "stream",
     "text": [
      "The best threshold is 0.63 and the respective MSE = 0.008746355685131196\n"
     ]
    }
   ],
   "source": [
    "MSE_train=[]\n",
    "threshold=[]\n",
    "i=0\n",
    "while i < 1:\n",
    "    y_clf_qr_1=[]\n",
    "    for count3 in yhat_train:\n",
    "        if count3 > i:\n",
    "            y_clf_qr_1.append(1)\n",
    "        else:\n",
    "            y_clf_qr_1.append(0)\n",
    "    \n",
    "    y_clf_qr_1=np.asarray(y_clf_qr_1)\n",
    "        \n",
    "    df4 = pd.DataFrame()\n",
    "    df4['y_clf']=pd.Series(y_clf_qr_1)\n",
    "    y_train_pred=df4.to_numpy()\n",
    "    Y_train_np=Y_train.to_numpy()\n",
    "    \n",
    "    MSE_train=np.append(MSE_train,mean_squared_error(Y_train_np, y_train_pred))\n",
    "    MSE_train=np.asarray(MSE_train)\n",
    "    \n",
    "    threshold=np.append(threshold,i)\n",
    "    threshold=np.asarray(threshold)\n",
    "    i=i+0.01\n",
    "    \n",
    "mse_thres = pd.DataFrame({'mse':MSE_train, 'threshold':threshold})\n",
    "mse_thres_sorted = mse_thres.sort_values([\"mse\", \"threshold\"], ascending=True)\n",
    "mse_thres_sorted.reset_index(inplace=True)\n",
    "\n",
    "print('The best threshold is {} and the respective MSE = {}'.format(round(mse_thres_sorted['threshold'].loc[0],2),mse_thres_sorted['mse'].loc[0]))"
   ]
  },
  {
   "cell_type": "markdown",
   "id": "0589cfde-c229-41d4-a674-09df4624bfed",
   "metadata": {},
   "source": [
    " "
   ]
  },
  {
   "cell_type": "markdown",
   "id": "10bc7afe-e884-4575-a03b-de719f1c351f",
   "metadata": {},
   "source": [
    "> #### Recalculating the confusion matrix using the new threshold (0.63) for the training set and now we see a difference in the False Positive and False Negative number, comparing to our previous classfication rule (using threshold = 0.5)"
   ]
  },
  {
   "cell_type": "code",
   "execution_count": 38,
   "id": "abbc4013-9af6-4021-b55d-41496b419482",
   "metadata": {
    "tags": []
   },
   "outputs": [
    {
     "data": {
      "text/plain": [
       "array([[553,   5],\n",
       "       [  4, 467]], dtype=int64)"
      ]
     },
     "execution_count": 38,
     "metadata": {},
     "output_type": "execute_result"
    }
   ],
   "source": [
    "y_clf_qr_1=[]\n",
    "for count3 in yhat_train:\n",
    "    if count3 > 0.63:\n",
    "        y_clf_qr_1.append(1)\n",
    "    else:\n",
    "        y_clf_qr_1.append(0)\n",
    "    \n",
    "y_clf_qr_1=np.asarray(y_clf_qr_1)\n",
    "        \n",
    "df4 = pd.DataFrame()\n",
    "df4['y_clf']=pd.Series(y_clf_qr_1)\n",
    "    \n",
    "cm_train_optimized = confusion_matrix(Y_train, df4['y_clf'])\n",
    "cm_train_optimized"
   ]
  },
  {
   "cell_type": "markdown",
   "id": "4f973860-e69a-4989-b091-299607fc3cfb",
   "metadata": {},
   "source": [
    "> #### Next step is to implement the new threshold we found above (0.63) to the classification process of the test set and also compute the new Confusion matrix"
   ]
  },
  {
   "cell_type": "code",
   "execution_count": 39,
   "id": "70d5f52e-65e3-446c-81e3-c5c9cd2b105b",
   "metadata": {
    "tags": []
   },
   "outputs": [
    {
     "data": {
      "text/plain": [
       "array([[203,   1],\n",
       "       [  0, 139]], dtype=int64)"
      ]
     },
     "execution_count": 39,
     "metadata": {},
     "output_type": "execute_result"
    }
   ],
   "source": [
    "y_clf_qr_2=[]\n",
    "for count3 in yhat_test:\n",
    "    if count3 > 0.63:\n",
    "        y_clf_qr_2.append(1)\n",
    "    else:\n",
    "        y_clf_qr_2.append(0)\n",
    "    \n",
    "y_clf_qr_2=np.asarray(y_clf_qr_2)\n",
    "        \n",
    "df5 = pd.DataFrame()\n",
    "df5['y_clf']=pd.Series(y_clf_qr_2)\n",
    "    \n",
    "cm_test_optimized = confusion_matrix(Y_test, df5['y_clf'])\n",
    "cm_test_optimized"
   ]
  },
  {
   "cell_type": "markdown",
   "id": "c1ff6ccc-c8e6-4c73-8ca1-1d9890ab0adc",
   "metadata": {},
   "source": [
    "> #### Last step to verify our procedure and see how well we implemented the classification process we are going to compure the ERR (error rate) and consequently the accuracy score for bothe datasets.\n",
    "> #### Using the last computed confusion matices we will find the ERR with the following formula:\n",
    ">\n",
    "> #### <br>  $$ ERR = \\frac{False Positive + False Negative}{Data} $$\n",
    "> #### <br>  And using the ERR we will compute the accuracy values with the following formula:\n",
    ">\n",
    "> #### <br> $$ Accuracy = 1 - ERR $$"
   ]
  },
  {
   "cell_type": "code",
   "execution_count": 40,
   "id": "35b88e90-a740-4294-8f16-7a8723d5986d",
   "metadata": {},
   "outputs": [
    {
     "name": "stdout",
     "output_type": "stream",
     "text": [
      "\n",
      "The Error Rate (ERR) for the training dataset is ERR_train = 0.0088 and the accuracy is 0.9912\n",
      "\n",
      "The Error Rate (ERR) for the test dataset is ERR_test = 0.0029 and the accuracy is 0.9971\n"
     ]
    }
   ],
   "source": [
    "# training dataset scores - ERR & Accuracy - calculations\n",
    "ERR_train= (cm_train_optimized[0,1]+cm_train_optimized[1,0])/(cm_train_optimized[0,0]+cm_train_optimized[1,1])\n",
    "accuracy_train=1-ERR_train\n",
    "\n",
    "# test dataset scores - ERR & Accuracy - calculations\n",
    "ERR_test= (cm_test_optimized[0,1]+cm_test_optimized[1,0])/(cm_test_optimized[0,0]+cm_test_optimized[1,1])\n",
    "accuracy_test=1-ERR_test\n",
    "print(\"\")\n",
    "print('The Error Rate (ERR) for the training dataset is ERR_train = {} and the accuracy is {}'.format(round(ERR_train,4), round(accuracy_train,4)))\n",
    "print(\"\")\n",
    "print('The Error Rate (ERR) for the test dataset is ERR_test = {} and the accuracy is {}'.format(round(ERR_test,4), round(accuracy_test,4)))"
   ]
  }
 ],
 "metadata": {
  "kernelspec": {
   "display_name": "Python 3",
   "language": "python",
   "name": "python3"
  },
  "language_info": {
   "codemirror_mode": {
    "name": "ipython",
    "version": 3
   },
   "file_extension": ".py",
   "mimetype": "text/x-python",
   "name": "python",
   "nbconvert_exporter": "python",
   "pygments_lexer": "ipython3",
   "version": "3.8.8"
  }
 },
 "nbformat": 4,
 "nbformat_minor": 5
}
