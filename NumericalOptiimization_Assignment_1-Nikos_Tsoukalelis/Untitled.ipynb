{
 "cells": [
  {
   "cell_type": "code",
   "execution_count": 2,
   "id": "caedc8f7-1d45-4605-aff8-62cabf37ca7d",
   "metadata": {},
   "outputs": [
    {
     "name": "stdout",
     "output_type": "stream",
     "text": [
      "Requirement already satisfied: notebook-as-pdf in c:\\users\\cob_n\\anaconda3\\lib\\site-packages (0.5.0)\n",
      "Requirement already satisfied: pyppeteer in c:\\users\\cob_n\\anaconda3\\lib\\site-packages (from notebook-as-pdf) (1.0.2)\n",
      "Requirement already satisfied: PyPDF2 in c:\\users\\cob_n\\anaconda3\\lib\\site-packages (from notebook-as-pdf) (1.26.0)\n",
      "Requirement already satisfied: nbconvert in c:\\users\\cob_n\\anaconda3\\lib\\site-packages (from notebook-as-pdf) (6.0.7)\n",
      "Requirement already satisfied: defusedxml in c:\\users\\cob_n\\anaconda3\\lib\\site-packages (from nbconvert->notebook-as-pdf) (0.7.1)\n",
      "Requirement already satisfied: jinja2>=2.4 in c:\\users\\cob_n\\anaconda3\\lib\\site-packages (from nbconvert->notebook-as-pdf) (2.11.3)\n",
      "Requirement already satisfied: pygments>=2.4.1 in c:\\users\\cob_n\\anaconda3\\lib\\site-packages (from nbconvert->notebook-as-pdf) (2.8.1)\n",
      "Requirement already satisfied: nbclient<0.6.0,>=0.5.0 in c:\\users\\cob_n\\anaconda3\\lib\\site-packages (from nbconvert->notebook-as-pdf) (0.5.3)\n",
      "Requirement already satisfied: entrypoints>=0.2.2 in c:\\users\\cob_n\\anaconda3\\lib\\site-packages (from nbconvert->notebook-as-pdf) (0.3)\n",
      "Requirement already satisfied: bleach in c:\\users\\cob_n\\anaconda3\\lib\\site-packages (from nbconvert->notebook-as-pdf) (3.3.0)\n",
      "Requirement already satisfied: jupyterlab-pygments in c:\\users\\cob_n\\anaconda3\\lib\\site-packages (from nbconvert->notebook-as-pdf) (0.1.2)\n",
      "Requirement already satisfied: mistune<2,>=0.8.1 in c:\\users\\cob_n\\anaconda3\\lib\\site-packages (from nbconvert->notebook-as-pdf) (0.8.4)\n",
      "Requirement already satisfied: pandocfilters>=1.4.1 in c:\\users\\cob_n\\anaconda3\\lib\\site-packages (from nbconvert->notebook-as-pdf) (1.4.3)\n",
      "Requirement already satisfied: traitlets>=4.2 in c:\\users\\cob_n\\anaconda3\\lib\\site-packages (from nbconvert->notebook-as-pdf) (5.0.5)\n",
      "Requirement already satisfied: nbformat>=4.4 in c:\\users\\cob_n\\anaconda3\\lib\\site-packages (from nbconvert->notebook-as-pdf) (5.1.3)\n",
      "Requirement already satisfied: testpath in c:\\users\\cob_n\\anaconda3\\lib\\site-packages (from nbconvert->notebook-as-pdf) (0.4.4)\n",
      "Requirement already satisfied: jupyter-core in c:\\users\\cob_n\\anaconda3\\lib\\site-packages (from nbconvert->notebook-as-pdf) (4.7.1)\n",
      "Requirement already satisfied: MarkupSafe>=0.23 in c:\\users\\cob_n\\anaconda3\\lib\\site-packages (from jinja2>=2.4->nbconvert->notebook-as-pdf) (1.1.1)\n",
      "Requirement already satisfied: nest-asyncio in c:\\users\\cob_n\\anaconda3\\lib\\site-packages (from nbclient<0.6.0,>=0.5.0->nbconvert->notebook-as-pdf) (1.5.1)\n",
      "Requirement already satisfied: async-generator in c:\\users\\cob_n\\anaconda3\\lib\\site-packages (from nbclient<0.6.0,>=0.5.0->nbconvert->notebook-as-pdf) (1.10)\n",
      "Requirement already satisfied: jupyter-client>=6.1.5 in c:\\users\\cob_n\\anaconda3\\lib\\site-packages (from nbclient<0.6.0,>=0.5.0->nbconvert->notebook-as-pdf) (6.1.12)\n",
      "Requirement already satisfied: pyzmq>=13 in c:\\users\\cob_n\\anaconda3\\lib\\site-packages (from jupyter-client>=6.1.5->nbclient<0.6.0,>=0.5.0->nbconvert->notebook-as-pdf) (20.0.0)\n",
      "Requirement already satisfied: python-dateutil>=2.1 in c:\\users\\cob_n\\anaconda3\\lib\\site-packages (from jupyter-client>=6.1.5->nbclient<0.6.0,>=0.5.0->nbconvert->notebook-as-pdf) (2.8.1)\n",
      "Requirement already satisfied: tornado>=4.1 in c:\\users\\cob_n\\anaconda3\\lib\\site-packages (from jupyter-client>=6.1.5->nbclient<0.6.0,>=0.5.0->nbconvert->notebook-as-pdf) (6.1)\n",
      "Requirement already satisfied: pywin32>=1.0 in c:\\users\\cob_n\\anaconda3\\lib\\site-packages (from jupyter-core->nbconvert->notebook-as-pdf) (227)\n",
      "Requirement already satisfied: ipython-genutils in c:\\users\\cob_n\\anaconda3\\lib\\site-packages (from nbformat>=4.4->nbconvert->notebook-as-pdf) (0.2.0)\n",
      "Requirement already satisfied: jsonschema!=2.5.0,>=2.4 in c:\\users\\cob_n\\anaconda3\\lib\\site-packages (from nbformat>=4.4->nbconvert->notebook-as-pdf) (3.2.0)\n",
      "Requirement already satisfied: six>=1.11.0 in c:\\users\\cob_n\\anaconda3\\lib\\site-packages (from jsonschema!=2.5.0,>=2.4->nbformat>=4.4->nbconvert->notebook-as-pdf) (1.15.0)Note: you may need to restart the kernel to use updated packages.\n",
      "Requirement already satisfied: setuptools in c:\\users\\cob_n\\anaconda3\\lib\\site-packages (from jsonschema!=2.5.0,>=2.4->nbformat>=4.4->nbconvert->notebook-as-pdf) (52.0.0.post20210125)\n",
      "Requirement already satisfied: pyrsistent>=0.14.0 in c:\\users\\cob_n\\anaconda3\\lib\\site-packages (from jsonschema!=2.5.0,>=2.4->nbformat>=4.4->nbconvert->notebook-as-pdf) (0.17.3)\n",
      "Requirement already satisfied: attrs>=17.4.0 in c:\\users\\cob_n\\anaconda3\\lib\\site-packages (from jsonschema!=2.5.0,>=2.4->nbformat>=4.4->nbconvert->notebook-as-pdf) (20.3.0)\n",
      "Requirement already satisfied: packaging in c:\\users\\cob_n\\anaconda3\\lib\\site-packages (from bleach->nbconvert->notebook-as-pdf) (20.9)\n",
      "Requirement already satisfied: webencodings in c:\\users\\cob_n\\anaconda3\\lib\\site-packages (from bleach->nbconvert->notebook-as-pdf) (0.5.1)\n",
      "Requirement already satisfied: pyparsing>=2.0.2 in c:\\users\\cob_n\\anaconda3\\lib\\site-packages (from packaging->bleach->nbconvert->notebook-as-pdf) (2.4.7)\n",
      "Requirement already satisfied: importlib-metadata>=1.4 in c:\\users\\cob_n\\anaconda3\\lib\\site-packages (from pyppeteer->notebook-as-pdf) (4.10.0)\n",
      "Requirement already satisfied: appdirs<2.0.0,>=1.4.3 in c:\\users\\cob_n\\anaconda3\\lib\\site-packages (from pyppeteer->notebook-as-pdf) (1.4.4)\n",
      "Requirement already satisfied: pyee<9.0.0,>=8.1.0 in c:\\users\\cob_n\\anaconda3\\lib\\site-packages (from pyppeteer->notebook-as-pdf) (8.2.2)\n",
      "Requirement already satisfied: certifi>=2021 in c:\\users\\cob_n\\anaconda3\\lib\\site-packages (from pyppeteer->notebook-as-pdf) (2021.10.8)\n",
      "Requirement already satisfied: urllib3<2.0.0,>=1.25.8 in c:\\users\\cob_n\\anaconda3\\lib\\site-packages (from pyppeteer->notebook-as-pdf) (1.26.4)\n",
      "Requirement already satisfied: tqdm<5.0.0,>=4.42.1 in c:\\users\\cob_n\\anaconda3\\lib\\site-packages (from pyppeteer->notebook-as-pdf) (4.59.0)\n",
      "Requirement already satisfied: websockets<11.0,>=10.0 in c:\\users\\cob_n\\anaconda3\\lib\\site-packages (from pyppeteer->notebook-as-pdf) (10.2)\n",
      "Requirement already satisfied: zipp>=0.5 in c:\\users\\cob_n\\anaconda3\\lib\\site-packages (from importlib-metadata>=1.4->pyppeteer->notebook-as-pdf) (3.4.1)\n",
      "\n"
     ]
    }
   ],
   "source": [
    "pip install -U notebook-as-pdf"
   ]
  },
  {
   "cell_type": "code",
   "execution_count": 3,
   "id": "5367b5d6-6c32-4797-bb43-5ad3f96c6d5f",
   "metadata": {},
   "outputs": [
    {
     "ename": "NameError",
     "evalue": "name 'pyppeteer' is not defined",
     "output_type": "error",
     "traceback": [
      "\u001b[1;31m---------------------------------------------------------------------------\u001b[0m",
      "\u001b[1;31mNameError\u001b[0m                                 Traceback (most recent call last)",
      "\u001b[1;32m<ipython-input-3-67d7f30ecbcf>\u001b[0m in \u001b[0;36m<module>\u001b[1;34m\u001b[0m\n\u001b[1;32m----> 1\u001b[1;33m \u001b[0mpyppeteer\u001b[0m\u001b[1;33m-\u001b[0m\u001b[0minstall\u001b[0m\u001b[1;33m\u001b[0m\u001b[1;33m\u001b[0m\u001b[0m\n\u001b[0m",
      "\u001b[1;31mNameError\u001b[0m: name 'pyppeteer' is not defined"
     ]
    }
   ],
   "source": [
    "pyppeteer-install"
   ]
  },
  {
   "cell_type": "code",
   "execution_count": 4,
   "id": "81fee691-e84d-4aef-a394-5e76e4c2bfdc",
   "metadata": {},
   "outputs": [
    {
     "ename": "SyntaxError",
     "evalue": "invalid syntax (<ipython-input-4-3439d87f64bb>, line 1)",
     "output_type": "error",
     "traceback": [
      "\u001b[1;36m  File \u001b[1;32m\"<ipython-input-4-3439d87f64bb>\"\u001b[1;36m, line \u001b[1;32m1\u001b[0m\n\u001b[1;33m    jupyter-nbconvert --to pdfviahtml example.ipynb\u001b[0m\n\u001b[1;37m                           ^\u001b[0m\n\u001b[1;31mSyntaxError\u001b[0m\u001b[1;31m:\u001b[0m invalid syntax\n"
     ]
    }
   ],
   "source": [
    "jupyter-nbconvert --to pdfviahtml example.ipynb"
   ]
  },
  {
   "cell_type": "code",
   "execution_count": null,
   "id": "056a2921-4a77-40c3-a2af-4454bc7411c8",
   "metadata": {},
   "outputs": [],
   "source": []
  }
 ],
 "metadata": {
  "kernelspec": {
   "display_name": "Python 3",
   "language": "python",
   "name": "python3"
  },
  "language_info": {
   "codemirror_mode": {
    "name": "ipython",
    "version": 3
   },
   "file_extension": ".py",
   "mimetype": "text/x-python",
   "name": "python",
   "nbconvert_exporter": "python",
   "pygments_lexer": "ipython3",
   "version": "3.8.8"
  }
 },
 "nbformat": 4,
 "nbformat_minor": 5
}
